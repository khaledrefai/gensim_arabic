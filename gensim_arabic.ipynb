{
  "nbformat": 4,
  "nbformat_minor": 0,
  "metadata": {
    "colab": {
      "name": "gensim_arabic.ipynb",
      "version": "0.3.2",
      "provenance": [],
      "collapsed_sections": [],
      "include_colab_link": true
    },
    "kernelspec": {
      "name": "python3",
      "display_name": "Python 3"
    }
  },
  "cells": [
    {
      "cell_type": "markdown",
      "metadata": {
        "id": "view-in-github",
        "colab_type": "text"
      },
      "source": [
        "<a href=\"https://colab.research.google.com/github/khaledrefai/gensim_arabic/blob/master/gensim_arabic.ipynb\" target=\"_parent\"><img src=\"https://colab.research.google.com/assets/colab-badge.svg\" alt=\"Open In Colab\"/></a>"
      ]
    },
    {
      "metadata": {
        "id": "joEDzvpsxbja",
        "colab_type": "code",
        "colab": {
          "base_uri": "https://localhost:8080/",
          "height": 289
        },
        "outputId": "1e8a275f-8ed3-4711-cf48-dc361385d506"
      },
      "cell_type": "code",
      "source": [
        "!wget -O full_grams_cbow_300_twitter https://archive.org/download/full_grams_cbow_300_twitter/full_grams_cbow_300_twitter.zip"
      ],
      "execution_count": 1,
      "outputs": [
        {
          "output_type": "stream",
          "text": [
            "--2019-03-09 14:05:20--  https://archive.org/download/full_grams_cbow_300_twitter/full_grams_cbow_300_twitter.zip\n",
            "Resolving archive.org (archive.org)... 207.241.224.2\n",
            "Connecting to archive.org (archive.org)|207.241.224.2|:443... connected.\n",
            "HTTP request sent, awaiting response... 302 Found\n",
            "Location: https://ia802903.us.archive.org/26/items/full_grams_cbow_300_twitter/full_grams_cbow_300_twitter.zip [following]\n",
            "--2019-03-09 14:05:26--  https://ia802903.us.archive.org/26/items/full_grams_cbow_300_twitter/full_grams_cbow_300_twitter.zip\n",
            "Resolving ia802903.us.archive.org (ia802903.us.archive.org)... 207.241.233.53\n",
            "Connecting to ia802903.us.archive.org (ia802903.us.archive.org)|207.241.233.53|:443... connected.\n",
            "HTTP request sent, awaiting response... 200 OK\n",
            "Length: 3325529808 (3.1G) [application/zip]\n",
            "Saving to: ‘full_grams_cbow_300_twitter’\n",
            "\n",
            "full_grams_cbow_300 100%[===================>]   3.10G   892KB/s    in 38m 39s \n",
            "\n",
            "2019-03-09 14:44:06 (1.37 MB/s) - ‘full_grams_cbow_300_twitter’ saved [3325529808/3325529808]\n",
            "\n"
          ],
          "name": "stdout"
        }
      ]
    },
    {
      "metadata": {
        "id": "0K0U-DyQ-OxC",
        "colab_type": "code",
        "colab": {
          "base_uri": "https://localhost:8080/",
          "height": 85
        },
        "outputId": "8cebf950-a7d2-4d37-f837-dbf1223a0b7b"
      },
      "cell_type": "code",
      "source": [
        "!unzip full_grams_cbow_300_twitter"
      ],
      "execution_count": 9,
      "outputs": [
        {
          "output_type": "stream",
          "text": [
            "Archive:  full_grams_cbow_300_twitter\n",
            "  inflating: full_grams_cbow_300_twitter.mdl  \n",
            "  inflating: full_grams_cbow_300_twitter.mdl.trainables.syn1neg.npy  \n",
            "  inflating: full_grams_cbow_300_twitter.mdl.wv.vectors.npy  \n"
          ],
          "name": "stdout"
        }
      ]
    },
    {
      "metadata": {
        "id": "4uWDsysC6gAI",
        "colab_type": "code",
        "colab": {}
      },
      "cell_type": "code",
      "source": [
        "import gensim\n",
        "import re\n",
        "import numpy as np\n",
        "from nltk import ngrams"
      ],
      "execution_count": 0,
      "outputs": []
    },
    {
      "metadata": {
        "id": "lWFByJXj6tcz",
        "colab_type": "code",
        "colab": {}
      },
      "cell_type": "code",
      "source": [
        "# Clean/Normalize Arabic Text\n",
        "def clean_str(text):\n",
        "    search = [\"أ\",\"إ\",\"آ\",\"ة\",\"_\",\"-\",\"/\",\".\",\"،\",\" و \",\" يا \",'\"',\"ـ\",\"'\",\"ى\",\"\\\\\",'\\n', '\\t','&quot;','?','؟','!']\n",
        "    replace = [\"ا\",\"ا\",\"ا\",\"ه\",\" \",\" \",\"\",\"\",\"\",\" و\",\" يا\",\"\",\"\",\"\",\"ي\",\"\",' ', ' ',' ',' ? ',' ؟ ',' ! ']\n",
        "        \n",
        "    #remove tashkeel\n",
        "    p_tashkeel = re.compile(r'[\\u0617-\\u061A\\u064B-\\u0652]')\n",
        "    text = re.sub(p_tashkeel,\"\", text)\n",
        "    \n",
        "    #remove longation\n",
        "    p_longation = re.compile(r'(.)\\1+')\n",
        "    subst = r\"\\1\\1\"\n",
        "    text = re.sub(p_longation, subst, text)\n",
        "    \n",
        "    text = text.replace('وو', 'و')\n",
        "    text = text.replace('يي', 'ي')\n",
        "    text = text.replace('اا', 'ا')\n",
        "    \n",
        "    for i in range(0, len(search)):\n",
        "        text = text.replace(search[i], replace[i])\n",
        "    \n",
        "    #trim    \n",
        "    text = text.strip()\n",
        "\n",
        "    return text\n",
        "def get_vec(n_model,dim, token):\n",
        "    vec = np.zeros(dim)\n",
        "    is_vec = False\n",
        "    if token not in n_model.wv:\n",
        "        _count = 0\n",
        "        is_vec = True\n",
        "        for w in token.split(\"_\"):\n",
        "            if w in n_model.wv:\n",
        "                _count += 1\n",
        "                vec += n_model.wv[w]\n",
        "        if _count > 0:\n",
        "            vec = vec / _count\n",
        "    else:\n",
        "        vec = n_model.wv[token]\n",
        "    return vec\n",
        "\n",
        "def calc_vec(pos_tokens, neg_tokens, n_model, dim):\n",
        "    vec = np.zeros(dim)\n",
        "    for p in pos_tokens:\n",
        "        vec += get_vec(n_model,dim,p)\n",
        "    for n in neg_tokens:\n",
        "        vec -= get_vec(n_model,dim,n)\n",
        "    \n",
        "    return vec \n",
        "## -- Retrieve all ngrams for a text in between a specific range\n",
        "def get_all_ngrams(text, nrange=3):\n",
        "    text = re.sub(r'[\\,\\.\\;\\(\\)\\[\\]\\_\\+\\#\\@\\!\\?\\؟\\^]', ' ', text)\n",
        "    tokens = [token for token in text.split(\" \") if token.strip() != \"\"]\n",
        "    ngs = []\n",
        "    for n in range(2,nrange+1):\n",
        "        ngs += [ng for ng in ngrams(tokens, n)]\n",
        "    return [\"_\".join(ng) for ng in ngs if len(ng)>0 ]\n",
        "\n",
        "## -- Retrieve all ngrams for a text in a specific n\n",
        "def get_ngrams(text, n=2):\n",
        "    text = re.sub(r'[\\,\\.\\;\\(\\)\\[\\]\\_\\+\\#\\@\\!\\?\\؟\\^]', ' ', text)\n",
        "    tokens = [token for token in text.split(\" \") if token.strip() != \"\"]\n",
        "    ngs = [ng for ng in ngrams(tokens, n)]\n",
        "    return [\"_\".join(ng) for ng in ngs if len(ng)>0 ]\n",
        "\n",
        "## -- filter the existed tokens in a specific model\n",
        "def get_existed_tokens(tokens, n_model):\n",
        "    return [tok for tok in tokens if tok in n_model.wv ]\n",
        "\n",
        "  "
      ],
      "execution_count": 0,
      "outputs": []
    },
    {
      "metadata": {
        "id": "6kPCElht7S0l",
        "colab_type": "code",
        "colab": {}
      },
      "cell_type": "code",
      "source": [
        "from gensim.models import KeyedVectors\n",
        "from gensim.models import Word2Vec\n",
        "\n",
        "t_model = gensim.models.Word2Vec.load('full_grams_cbow_300_twitter.mdl')\n",
        "#model = KeyedVectors.load_word2vec_format('full_grams_cbow_300_twitter', binary=True)\n",
        "\n"
      ],
      "execution_count": 0,
      "outputs": []
    },
    {
      "metadata": {
        "id": "5f19SZag_c5h",
        "colab_type": "code",
        "colab": {
          "base_uri": "https://localhost:8080/",
          "height": 241
        },
        "outputId": "d661cf51-6000-4f9e-edac-97a98092ed09"
      },
      "cell_type": "code",
      "source": [
        "# python 3.X\n",
        "token = clean_str(u'ابو تريكه').replace(\" \", \"_\")\n",
        "if token in t_model.wv:\n",
        "    most_similar = t_model.wv.most_similar( token, topn=10 )\n",
        "    for term, score in most_similar:\n",
        "        term = clean_str(term).replace(\" \", \"_\")\n",
        "        if term != token:\n",
        "            print(term, score)"
      ],
      "execution_count": 11,
      "outputs": [
        {
          "output_type": "stream",
          "text": [
            "/usr/local/lib/python3.6/dist-packages/gensim/matutils.py:737: FutureWarning: Conversion of the second argument of issubdtype from `int` to `np.signedinteger` is deprecated. In future, it will be treated as `np.int64 == np.dtype(int).type`.\n",
            "  if np.issubdtype(vec.dtype, np.int):\n"
          ],
          "name": "stderr"
        },
        {
          "output_type": "stream",
          "text": [
            "ابوتريكه 0.879421591758728\n",
            "تريكه 0.7756417989730835\n",
            "حازم_امام 0.7520479559898376\n",
            "حسام_غالي 0.7310762405395508\n",
            "وائل_جمعه 0.7296881675720215\n",
            "حسام_حسن 0.7109734416007996\n",
            "باسم_مرسي 0.7088809013366699\n",
            "عمرو_زكي 0.6989202499389648\n",
            "ميدو 0.6951170563697815\n",
            "رمضان_صبحي 0.6935876607894897\n"
          ],
          "name": "stdout"
        }
      ]
    },
    {
      "metadata": {
        "id": "2fakdcOp_orD",
        "colab_type": "code",
        "colab": {
          "base_uri": "https://localhost:8080/",
          "height": 224
        },
        "outputId": "13eb4e79-34e8-49f9-e646-ba6f95413eb4"
      },
      "cell_type": "code",
      "source": [
        "pos_tokens=[ clean_str(t.strip()).replace(\" \", \"_\") for t in ['عمرو دياب', 'الخليج'] if t.strip() != \"\"]\n",
        "neg_tokens=[ clean_str(t.strip()).replace(\" \", \"_\") for t in ['مصر'] if t.strip() != \"\"]\n",
        "\n",
        "vec = calc_vec(pos_tokens=pos_tokens, neg_tokens=neg_tokens, n_model=t_model, dim=t_model.vector_size)\n",
        "\n",
        "most_sims = t_model.wv.similar_by_vector(vec, topn=10)\n",
        "for term, score in most_sims:\n",
        "    if term not in pos_tokens+neg_tokens:\n",
        "        print(term, score)\n"
      ],
      "execution_count": 12,
      "outputs": [
        {
          "output_type": "stream",
          "text": [
            "ماجد_المهندس 0.5671201944351196\n",
            "عبدالله_رويشد 0.5305584669113159\n",
            "عبدالمجيد_عبدالله 0.525513231754303\n",
            "محمد_عبده 0.5064847469329834\n",
            "راشد_الماجد 0.5064665675163269\n",
            "رابح_صقر 0.5000637769699097\n",
            "نبيل_شعيل 0.4981035590171814\n",
            "الرويشد 0.4958586096763611\n",
            "الجسمي 0.4870912432670593\n"
          ],
          "name": "stdout"
        },
        {
          "output_type": "stream",
          "text": [
            "/usr/local/lib/python3.6/dist-packages/gensim/matutils.py:737: FutureWarning: Conversion of the second argument of issubdtype from `int` to `np.signedinteger` is deprecated. In future, it will be treated as `np.int64 == np.dtype(int).type`.\n",
            "  if np.issubdtype(vec.dtype, np.int):\n"
          ],
          "name": "stderr"
        }
      ]
    },
    {
      "metadata": {
        "id": "dsnGS2T3_2Su",
        "colab_type": "code",
        "colab": {
          "base_uri": "https://localhost:8080/",
          "height": 241
        },
        "outputId": "feed4f43-faf4-49e9-94bf-c5d862833679"
      },
      "cell_type": "code",
      "source": [
        "# python 3.X\n",
        "token = clean_str(u'تونس')\n",
        "# python 2.7\n",
        "# token = clean_str('تونس'.decode('utf8', errors='ignore'))\n",
        "most_similar = t_model.wv.most_similar( token, topn=10 )\n",
        "for term, score in most_similar:\n",
        "    print(term, score)\n"
      ],
      "execution_count": 34,
      "outputs": [
        {
          "output_type": "stream",
          "text": [
            "/usr/local/lib/python3.6/dist-packages/gensim/matutils.py:737: FutureWarning: Conversion of the second argument of issubdtype from `int` to `np.signedinteger` is deprecated. In future, it will be treated as `np.int64 == np.dtype(int).type`.\n",
            "  if np.issubdtype(vec.dtype, np.int):\n"
          ],
          "name": "stderr"
        },
        {
          "output_type": "stream",
          "text": [
            "ليبيا 0.775361180305481\n",
            "الجزائر 0.7714784145355225\n",
            "مصر 0.7435071468353271\n",
            "فرنسا 0.70225989818573\n",
            "موريتانيا 0.6786443591117859\n",
            "تركيا 0.6531816124916077\n",
            "طرابلس 0.6514291763305664\n",
            "لبنان 0.6502016186714172\n",
            "السودان 0.6472519636154175\n",
            "الاردن 0.6358590126037598\n"
          ],
          "name": "stdout"
        }
      ]
    },
    {
      "metadata": {
        "id": "iMwHgt1VBcF6",
        "colab_type": "code",
        "colab": {
          "base_uri": "https://localhost:8080/",
          "height": 1292
        },
        "outputId": "0dcc2ca5-bf3d-4492-a2e7-3fae015659af"
      },
      "cell_type": "code",
      "source": [
        "# get a word vector\n",
        "word_vector = t_model.wv[ token ]\n",
        "print(word_vector)"
      ],
      "execution_count": 28,
      "outputs": [
        {
          "output_type": "stream",
          "text": [
            "[ 5.2427763e-01 -1.7721991e-01 -6.7358071e-01  5.5230027e-01\n",
            " -5.1873112e-01 -1.8911989e-01  7.9052705e-01 -1.4380398e+00\n",
            " -2.3931246e-01  7.0309275e-01 -3.6220643e-01  2.7617165e-01\n",
            " -1.8557517e-01 -9.4612902e-01 -1.7434624e+00 -1.2418944e+00\n",
            "  1.5038666e+00  1.7104491e+00  3.0561200e-01  1.2476454e+00\n",
            "  1.2952463e-02  2.7332184e-01  5.5270445e-01 -4.4741083e-02\n",
            "  7.3687658e-02 -2.7608218e-02  2.9314157e-01 -3.2719314e-02\n",
            " -8.8603097e-01  5.3171492e-01 -1.9288963e-01  1.3752570e+00\n",
            "  9.7422302e-01 -5.4750699e-01 -1.9364828e+00  1.7958424e+00\n",
            " -2.8463033e-01 -8.6037177e-01  9.8598814e-01 -2.0660942e+00\n",
            "  1.4259132e-02 -5.3225791e-01 -2.4116476e-01 -2.1537793e-01\n",
            " -7.3768771e-01  1.4348507e+00  1.6797736e+00 -1.5312676e+00\n",
            " -1.4269476e-01 -7.2796893e-01 -1.4941980e+00  9.8120403e-01\n",
            "  1.4845023e+00  1.9159906e+00 -2.1403081e+00  4.6480992e-01\n",
            " -2.4597912e+00 -8.1003863e-01 -4.4870052e-01 -2.6394494e+00\n",
            "  3.3719936e-01  4.5325339e-01  1.1879311e+00 -2.4306817e+00\n",
            "  2.9790580e-01  6.4934146e-01 -3.2069227e-01  1.1886363e+00\n",
            " -7.2400135e-01  1.4173058e+00 -1.6154821e+00 -7.5598216e-01\n",
            " -2.2931988e+00  3.0318975e-01  1.3937688e+00 -1.3123170e+00\n",
            "  4.8591595e-02 -1.1917889e+00  1.1390066e+00 -2.2134070e+00\n",
            "  9.3902367e-01  1.3516998e+00 -6.7814833e-01  1.7215619e+00\n",
            "  9.2394400e-01 -1.1985133e-01 -5.2742749e-01 -1.9292597e+00\n",
            " -5.3471655e-01  1.8229926e+00  7.0422083e-01  2.0743153e+00\n",
            " -9.9039131e-01  3.2582787e-01 -9.8930633e-01 -8.5961676e-01\n",
            " -2.8697604e-01  8.5021681e-01 -1.3122573e+00 -5.1123255e-01\n",
            "  5.0962967e-01 -7.6972926e-01  1.4117392e+00  7.1927124e-01\n",
            "  7.2061497e-01  1.0821531e+00 -1.9864112e-01 -7.4864432e-02\n",
            " -3.1197026e-01 -1.1553283e+00  4.0621898e-01 -5.0672519e-01\n",
            " -9.7425675e-01 -6.7319888e-01 -2.7479270e+00 -4.6131259e-01\n",
            " -2.6949677e-01 -1.9728130e-01  9.4262116e-02 -4.6056727e-01\n",
            "  1.6250484e-01 -1.1693130e+00  4.2525315e-01 -1.3447671e+00\n",
            "  7.0908254e-01  4.3279130e-02  3.7789294e-01  5.6004590e-01\n",
            " -7.9903856e-02 -2.8616694e-01 -1.7680228e+00 -1.9571561e+00\n",
            "  2.2461808e+00  5.2894276e-01  5.6027595e-02 -6.7503238e-01\n",
            "  8.3341676e-01 -5.3369057e-01  3.7324983e-01 -1.2220059e-01\n",
            " -4.9232537e-01 -9.3508375e-01 -6.0803401e-01  1.8845001e-02\n",
            "  1.8952408e+00  2.4532326e-01 -3.7783778e-01  7.9392159e-01\n",
            "  1.8246405e+00  2.5905153e-01  1.4022287e+00  6.6745293e-01\n",
            "  5.1663965e-01  1.7511621e-01 -5.1082289e-01  2.3977265e-01\n",
            " -3.8954407e-01  1.9391263e+00  4.8657399e-01  1.5887365e-01\n",
            " -1.3489102e+00  1.0971075e+00  1.3412936e+00  7.6981115e-01\n",
            "  4.9493748e-01 -1.3994459e+00 -6.4348716e-01 -1.0224540e+00\n",
            " -1.5619737e+00  2.6916388e-01  2.8372992e-02  1.8744472e+00\n",
            "  4.1960138e-01 -3.4028518e-01  5.5645812e-01  1.0262729e+00\n",
            " -7.2350516e-04  1.5992670e+00  7.2325623e-01  4.6967512e-01\n",
            "  3.8666260e-01 -5.3401250e-01 -4.1691765e-01  8.6515677e-01\n",
            "  2.5750153e+00 -9.4909567e-01  4.9538791e-01  5.1058513e-01\n",
            " -9.9279892e-01 -1.5404723e+00  6.9662988e-01 -8.3189166e-01\n",
            "  1.1160945e+00  7.5373478e-02  6.9390845e-01 -1.8400751e+00\n",
            " -5.8003223e-01 -2.0845890e+00 -1.9082468e+00 -1.5459019e+00\n",
            "  6.6566360e-01 -7.5398141e-01  6.2730652e-01  6.8723279e-01\n",
            " -1.1641372e+00 -1.8900261e+00 -2.3230134e-01  1.0578841e+00\n",
            " -1.1656671e+00 -1.9284824e+00 -4.4807896e-02 -3.0296388e+00\n",
            " -5.9537280e-01 -7.3878729e-01  7.4935949e-01 -2.2717969e+00\n",
            "  1.6090467e+00 -1.1552759e+00 -1.1108638e+00 -2.4380364e-01\n",
            " -6.4062965e-01 -3.8261941e-01 -4.7821933e-01 -1.3275489e+00\n",
            " -3.9377755e-01  1.5557965e+00  5.0927746e-01 -4.9965462e-01\n",
            " -5.6009077e-02 -5.6005967e-01 -3.5728574e-01  2.6488885e-01\n",
            "  1.8855252e+00 -7.2436905e-01 -6.1927873e-01  2.6973820e+00\n",
            " -5.1541579e-01  4.2881891e-01 -6.7774022e-01  3.1082448e-01\n",
            "  1.3792253e+00 -5.9147841e-01 -1.1766832e-02  6.6142428e-01\n",
            " -8.1199247e-01  6.5544760e-01  1.1522328e+00  1.9120024e+00\n",
            " -1.0561986e+00 -3.3472511e-01 -1.5308189e+00 -5.7326443e-02\n",
            "  7.9445106e-01 -2.5350231e-01 -3.3623978e-01 -3.0946460e-02\n",
            " -1.0440570e+00 -1.0112588e+00 -3.8596132e-01 -2.5734208e+00\n",
            "  2.2981703e+00  9.4123513e-01 -2.7379205e+00 -1.0826937e+00\n",
            " -1.7961024e+00  1.3841293e+00  9.5493525e-01 -1.1263231e+00\n",
            "  2.6980108e-01 -6.6156691e-01 -1.1575824e+00  1.6801117e-01\n",
            " -4.6284780e-01 -5.4717869e-01  1.4493822e+00 -8.2747594e-02\n",
            "  4.3437999e-01 -6.1431313e-01  3.7828961e-01  5.4415905e-01\n",
            " -1.4096195e-01  1.4016107e+00  1.0019951e+00  1.9410214e+00\n",
            "  4.7344252e-01  3.6311656e-01 -1.3842268e+00  9.8639750e-01\n",
            " -5.1701194e-01 -2.1591505e-01  1.2529162e-01 -4.7802269e-01\n",
            "  1.3615234e-01  1.2838504e-01 -6.4875484e-01  7.9736906e-01\n",
            " -6.0727913e-02 -1.0255158e+00 -1.4361277e+00  1.1169961e-01]\n"
          ],
          "name": "stdout"
        }
      ]
    }
  ]
}